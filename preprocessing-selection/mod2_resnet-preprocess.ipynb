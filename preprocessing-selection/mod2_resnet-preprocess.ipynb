{
 "cells": [
  {
   "cell_type": "code",
   "execution_count": null,
   "metadata": {},
   "outputs": [],
   "source": [
    "import os\n",
    "from tensorflow.keras.preprocessing import image\n",
    "from tensorflow.keras.applications.resnet50 import ResNet50, preprocess_input\n",
    "from tensorflow.keras.models import Model\n",
    "from tensorflow.keras.layers import Dropout,Dense\n",
    "import numpy as np\n",
    "from PIL import Image\n",
    "from IPython.display import display\n",
    "from pathlib import Path\n",
    "import time"
   ]
  },
  {
   "cell_type": "code",
   "execution_count": null,
   "metadata": {},
   "outputs": [],
   "source": [
    "directories = ['feature_vectors_resnet','feature_vectors_resnet/train',\n",
    "               'feature_vectors_resnet/test']\n",
    "\n",
    "for dir in directories:\n",
    "    if not os.path.exists(dir):\n",
    "        os.mkdir(dir)"
   ]
  },
  {
   "cell_type": "code",
   "execution_count": null,
   "metadata": {},
   "outputs": [],
   "source": [
    "class FeatureExtractor:\n",
    "    def __init__(self):\n",
    "\n",
    "        base_model = ResNet50(weights='imagenet',pooling='max')\n",
    "        self.model = Model(inputs=base_model.input, outputs=base_model.layers[-2].output)\n",
    "\n",
    "    def extract(self, img):\n",
    "\n",
    "        img = img.resize((224, 224))  \n",
    "        img = img.convert('RGB')  \n",
    "        \n",
    "        x = image.img_to_array(img) \n",
    "        x = preprocess_input(np.expand_dims(img.copy(), axis=0))  \n",
    "        feature = self.model.predict(x)[0]\n",
    "        return feature / np.linalg.norm(feature)  \n",
    "fe = FeatureExtractor()     "
   ]
  },
  {
   "cell_type": "code",
   "execution_count": null,
   "metadata": {},
   "outputs": [],
   "source": [
    "i = 0\n",
    "start = time.time()\n",
    "for img_path in (Path(\"../webscraping/images_aggregate\").glob(\"*.jpg\")):\n",
    "    i+=1\n",
    "    feature = fe.extract(img=Image.open(img_path))\n",
    "        \n",
    "    if(i%5==0 and i%10!=0):\n",
    "        feature_path = Path(\"./feature_vectors_resnet/test\") / (img_path.stem + \".npy\")  \n",
    "        np.save(feature_path, feature)\n",
    "    else:\n",
    "        feature_path = Path(\"./feature_vectors_resnet/train\") / (img_path.stem + \".npy\")  \n",
    "        np.save(feature_path, feature)\n",
    "end = time.time()   "
   ]
  },
  {
   "cell_type": "code",
   "execution_count": null,
   "metadata": {},
   "outputs": [],
   "source": [
    "cur = os.getcwd()\n",
    "\n",
    "os.chdir('feature_vectors_resnet/train')\n",
    "b = np.load('51v8UlSQfBL.npy')\n",
    "with np.printoptions(threshold=np.inf):\n",
    "    print(b)\n",
    "\n",
    "os.chdir(cur)"
   ]
  },
  {
   "cell_type": "code",
   "execution_count": null,
   "metadata": {},
   "outputs": [],
   "source": []
  }
 ],
 "metadata": {
  "kernelspec": {
   "display_name": "Python 3",
   "language": "python",
   "name": "python3"
  },
  "language_info": {
   "codemirror_mode": {
    "name": "ipython",
    "version": 3
   },
   "file_extension": ".py",
   "mimetype": "text/x-python",
   "name": "python",
   "nbconvert_exporter": "python",
   "pygments_lexer": "ipython3",
   "version": "3.8.8"
  }
 },
 "nbformat": 4,
 "nbformat_minor": 4
}
