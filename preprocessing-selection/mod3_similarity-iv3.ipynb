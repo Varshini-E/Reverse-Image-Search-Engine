{
 "cells": [
  {
   "cell_type": "code",
   "execution_count": null,
   "metadata": {},
   "outputs": [],
   "source": [
    "import numpy as np\n",
    "from PIL import Image\n",
    "from pathlib import Path\n",
    "import cv2\n",
    "from IPython.display import display"
   ]
  },
  {
   "cell_type": "code",
   "execution_count": null,
   "metadata": {},
   "outputs": [],
   "source": [
    "features = []\n",
    "img_paths = []\n",
    "\n",
    "for feature_path in Path(\"./feature_vectors_iv3/train\").glob(\"*.npy\"):\n",
    "    features.append(np.load(feature_path))\n",
    "    img_paths.append(Path(\"../webscraping/images_aggregate\") / (feature_path.stem + \".jpg\"))\n",
    "features = np.array(features)\n",
    "print(features.shape)"
   ]
  },
  {
   "cell_type": "code",
   "execution_count": null,
   "metadata": {
    "scrolled": false
   },
   "outputs": [],
   "source": [
    "j=0\n",
    "fullavg = 0\n",
    "\n",
    "for feature_path in Path(\"./feature_vectors_iv3/test\").glob(\"*.npy\"):\n",
    "\n",
    "        path = feature_path.stem+\".npy\"\n",
    "        if(path==\"51v8UlSQfBL.npy\"):\n",
    "            print(\"Image Input: \")\n",
    "            curr_feature = np.load(feature_path)\n",
    "            curr_img = (Path(\"../webscraping/images_aggregate\") / (feature_path.stem + \".jpg\"))\n",
    "            image=Image.open(curr_img)\n",
    "            display(image)\n",
    "            dists = np.linalg.norm(features-curr_feature, axis=1)  \n",
    "            ids = np.argsort(dists)[:30]  \n",
    "            scores = [(dists[id], img_paths[id]) for id in ids]\n",
    "            avg = 0\n",
    "            for i in range(len(scores)):\n",
    "                print(\"Euclidean distance of current image: \",scores[i][0])\n",
    "                img = Image.open(scores[i][1])\n",
    "                img = img.resize((120,180),Image.ANTIALIAS)\n",
    "                display(img)\n",
    "                avg+=scores[i][0]  \n",
    "\n",
    "            avg/=len(scores)\n",
    "            print(\"Average of resulting euclidean distances: \",avg)\n"
   ]
  },
  {
   "cell_type": "code",
   "execution_count": null,
   "metadata": {},
   "outputs": [],
   "source": [
    "import matplotlib.pyplot as plt\n",
    "from matplotlib.offsetbox import OffsetImage, AnnotationBbox\n",
    "\n",
    "def getImage(i):\n",
    "    return(OffsetImage(i))"
   ]
  },
  {
   "cell_type": "code",
   "execution_count": null,
   "metadata": {},
   "outputs": [],
   "source": [
    "j = 0\n",
    "for feature_path in Path(\"./feature_vectors_iv3/test\").glob(\"*.npy\"):\n",
    "        path = feature_path.stem+\".npy\"\n",
    "        if(path==\"51v8UlSQfBL.npy\"):\n",
    "#         j+=1\n",
    "            curr_feature = np.load(feature_path)\n",
    "            curr_img = (Path(\"../webscraping/images_aggregate\") / (feature_path.stem + \".jpg\"))\n",
    "\n",
    "            dists = np.linalg.norm(features-curr_feature, axis=1) \n",
    "            ids = np.argsort(dists)[:30] \n",
    "            scores = [(dists[id], img_paths[id]) for id in ids]\n",
    "            avg = 0\n",
    "            x =[]\n",
    "            y=[]\n",
    "            paths = []\n",
    "            for i in range(len(scores)):\n",
    "                img=Image.open(scores[i][1])\n",
    "                img = img.resize((120,180),Image.ANTIALIAS)\n",
    "                paths.append(img)\n",
    "                y.append(scores[i][0])\n",
    "                x.append(i)    \n",
    "\n",
    "\n",
    "            fig, ax = plt.subplots(figsize=(30, 20))\n",
    "            ax.scatter(x, y) \n",
    "\n",
    "            image=Image.open(curr_img)\n",
    "            display(image)\n",
    "            for x0, y0, path in zip(x, y,paths):\n",
    "                ab = AnnotationBbox(getImage(path), (x0, y0), frameon=False)\n",
    "                ax.add_artist(ab)\n",
    "\n",
    "\n",
    "#             if(j==10):\n",
    "#                 break"
   ]
  },
  {
   "cell_type": "code",
   "execution_count": null,
   "metadata": {},
   "outputs": [],
   "source": []
  }
 ],
 "metadata": {
  "kernelspec": {
   "display_name": "Python 3",
   "language": "python",
   "name": "python3"
  },
  "language_info": {
   "codemirror_mode": {
    "name": "ipython",
    "version": 3
   },
   "file_extension": ".py",
   "mimetype": "text/x-python",
   "name": "python",
   "nbconvert_exporter": "python",
   "pygments_lexer": "ipython3",
   "version": "3.8.8"
  }
 },
 "nbformat": 4,
 "nbformat_minor": 4
}
