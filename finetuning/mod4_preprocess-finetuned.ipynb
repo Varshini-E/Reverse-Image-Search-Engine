{
 "cells": [
  {
   "cell_type": "code",
   "execution_count": null,
   "metadata": {},
   "outputs": [],
   "source": [
    "import os\n",
    "from tensorflow.keras.preprocessing import image\n",
    "from tensorflow.keras.applications.resnet50 import ResNet50, preprocess_input\n",
    "from tensorflow.keras.models import Model\n",
    "import numpy as np\n",
    "from PIL import Image\n",
    "import keras\n",
    "from IPython.display import display\n",
    "from pathlib import Path\n",
    "import time\n",
    "\n",
    "directories = ['feature_vectors_resnet2','feature_vectors_resnet2/train','feature_vectors_resnet2/test']\n",
    "\n",
    "for dir in directories:\n",
    "    if not os.path.exists(dir):\n",
    "        os.mkdir(dir)"
   ]
  },
  {
   "cell_type": "code",
   "execution_count": null,
   "metadata": {
    "scrolled": true
   },
   "outputs": [],
   "source": [
    "import import_ipynb\n",
    "from feature_extractor import FeatureExtractorResnet"
   ]
  },
  {
   "cell_type": "code",
   "execution_count": null,
   "metadata": {},
   "outputs": [],
   "source": [
    "fe = FeatureExtractorResnet() "
   ]
  },
  {
   "cell_type": "code",
   "execution_count": null,
   "metadata": {},
   "outputs": [],
   "source": [
    "i = 0\n",
    "start = time.time()\n",
    "for img_path in (Path(\"../webscraping/images_aggregate\").glob(\"*.jpg\")):\n",
    "    i+=1\n",
    "    feature = fe.extract(img=Image.open(img_path))\n",
    "        \n",
    "    if(i%5==0 and i%10!=0):\n",
    "        feature_path = Path(\"./feature_vectors_resnet2/test\") / (img_path.stem + \".npy\")  # e.g., ./static/feature/xxx.npy\n",
    "        np.save(feature_path, feature)\n",
    "    else:\n",
    "        feature_path = Path(\"./feature_vectors_resnet2/train\") / (img_path.stem + \".npy\")  \n",
    "        np.save(feature_path, feature)\n",
    "end = time.time()"
   ]
  },
  {
   "cell_type": "code",
   "execution_count": null,
   "metadata": {},
   "outputs": [],
   "source": [
    "print(\"Elapsed time for feature extraction: \",end-start,\" seconds\")"
   ]
  },
  {
   "cell_type": "code",
   "execution_count": null,
   "metadata": {},
   "outputs": [],
   "source": []
  }
 ],
 "metadata": {
  "kernelspec": {
   "display_name": "Python 3",
   "language": "python",
   "name": "python3"
  },
  "language_info": {
   "codemirror_mode": {
    "name": "ipython",
    "version": 3
   },
   "file_extension": ".py",
   "mimetype": "text/x-python",
   "name": "python",
   "nbconvert_exporter": "python",
   "pygments_lexer": "ipython3",
   "version": "3.8.8"
  }
 },
 "nbformat": 4,
 "nbformat_minor": 4
}
