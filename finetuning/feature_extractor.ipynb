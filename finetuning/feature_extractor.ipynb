{
 "cells": [
  {
   "cell_type": "code",
   "execution_count": 1,
   "metadata": {},
   "outputs": [],
   "source": [
    "import os\n",
    "from tensorflow.keras.preprocessing import image\n",
    "from tensorflow.keras.applications.resnet50 import preprocess_input\n",
    "from tensorflow.keras.models import Model\n",
    "import numpy as np\n",
    "from PIL import Image\n",
    "import keras\n",
    "from IPython.display import display"
   ]
  },
  {
   "cell_type": "code",
   "execution_count": 2,
   "metadata": {},
   "outputs": [],
   "source": [
    "MODEL_PATH = os.path.sep.join(['output','resnet1'])\n",
    "class FeatureExtractorResnet:\n",
    "    def __init__(self):\n",
    "        base_model = keras.models.load_model(MODEL_PATH)\n",
    "        self.model = Model(inputs=base_model.input, outputs=base_model.layers[-4].output)\n",
    "\n",
    "    def extract(self, img):\n",
    "\n",
    "        img = img.resize((224, 224))  \n",
    "        img = img.convert('RGB')  \n",
    "        \n",
    "        x = image.img_to_array(img) \n",
    "        x = preprocess_input(np.expand_dims(img.copy(), axis=0))  \n",
    "        feature = self.model.predict(x)[0] \n",
    "        return feature / np.linalg.norm(feature) "
   ]
  }
 ],
 "metadata": {
  "kernelspec": {
   "display_name": "Python 3",
   "language": "python",
   "name": "python3"
  },
  "language_info": {
   "codemirror_mode": {
    "name": "ipython",
    "version": 3
   },
   "file_extension": ".py",
   "mimetype": "text/x-python",
   "name": "python",
   "nbconvert_exporter": "python",
   "pygments_lexer": "ipython3",
   "version": "3.8.8"
  }
 },
 "nbformat": 4,
 "nbformat_minor": 4
}
