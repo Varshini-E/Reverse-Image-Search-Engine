{
 "cells": [
  {
   "cell_type": "code",
   "execution_count": 50,
   "id": "de722d81",
   "metadata": {},
   "outputs": [],
   "source": [
    "import os\n",
    "from imutils import paths\n",
    "import random\n",
    "import shutil\n",
    "directory = \"images_dataset_final\"\n",
    "dest = \"images_aggregate\"\n",
    "if not os.path.exists(dest):\n",
    "    os.mkdir(dest)"
   ]
  },
  {
   "cell_type": "code",
   "execution_count": 51,
   "id": "521a24b8",
   "metadata": {},
   "outputs": [],
   "source": [
    "for root, dirs, files in os.walk(directory):\n",
    "    for subdir in dirs:\n",
    "        imagePaths = list(paths.list_images(os.path.join(root, subdir)))\n",
    "        final_path = os.path.dirname(os.path.abspath(dest)) + \"\\\\\" + dest\n",
    "           \n",
    "        for inputPath in imagePaths:\n",
    "            shutil.copy2(inputPath, final_path)"
   ]
  }
 ],
 "metadata": {
  "kernelspec": {
   "display_name": "Python 3",
   "language": "python",
   "name": "python3"
  },
  "language_info": {
   "codemirror_mode": {
    "name": "ipython",
    "version": 3
   },
   "file_extension": ".py",
   "mimetype": "text/x-python",
   "name": "python",
   "nbconvert_exporter": "python",
   "pygments_lexer": "ipython3",
   "version": "3.8.8"
  }
 },
 "nbformat": 4,
 "nbformat_minor": 5
}
