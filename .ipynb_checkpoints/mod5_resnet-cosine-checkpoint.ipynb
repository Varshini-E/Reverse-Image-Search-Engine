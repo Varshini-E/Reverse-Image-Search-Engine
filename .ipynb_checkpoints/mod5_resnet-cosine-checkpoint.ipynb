{
 "cells": [
  {
   "cell_type": "code",
   "execution_count": null,
   "metadata": {},
   "outputs": [],
   "source": [
    "import numpy as np\n",
    "from PIL import Image\n",
    "from pathlib import Path\n",
    "import cv2\n",
    "from IPython.display import display\n",
    "import matplotlib.pyplot as plt\n",
    "import scipy\n",
    "from numpy import dot\n",
    "from numpy.linalg import norm\n",
    "import time"
   ]
  },
  {
   "cell_type": "code",
   "execution_count": null,
   "metadata": {},
   "outputs": [],
   "source": [
    "features = []\n",
    "img_paths = []\n",
    "\n",
    "for feature_path in Path(\"./feature_vectors_resnet2/train\").glob(\"*.npy\"):\n",
    "    fv = np.load(feature_path)\n",
    "    features.append(fv)\n",
    "    img_paths.append(Path(\"../webscraping/images_aggregate\") / (feature_path.stem + \".jpg\"))\n",
    "features = np.array(features)\n"
   ]
  },
  {
   "cell_type": "code",
   "execution_count": null,
   "metadata": {},
   "outputs": [],
   "source": [
    "features_test = []\n",
    "test_imgs = []\n",
    "i = 0\n",
    "for feature_path in Path(\"./feature_vectors_resnet2/test\").glob(\"*.npy\"):\n",
    "    i+=1\n",
    "    if(i>=80):\n",
    "        fv = np.load(feature_path)\n",
    "        features_test.append(fv)\n",
    "        test_imgs.append(Path(\"../webscraping/images_aggregate\") / (feature_path.stem + \".jpg\"))\n"
   ]
  },
  {
   "cell_type": "code",
   "execution_count": null,
   "metadata": {},
   "outputs": [],
   "source": [
    "num = 10\n",
    "N = 10"
   ]
  },
  {
   "cell_type": "code",
   "execution_count": null,
   "metadata": {},
   "outputs": [],
   "source": [
    "results = []\n",
    "fig, ax = plt.subplots(num,N+1,figsize=(20, 20))\n",
    "plt.tight_layout()\n",
    "\n",
    "start = time.time()\n",
    "for k in range(len(features_test)):\n",
    "    \n",
    "        if(k==num):\n",
    "            break\n",
    "        \n",
    "        curr_feature = features_test[k]\n",
    "        ax[k,0].imshow((Image.open(test_imgs[k])))\n",
    "        ax[k, 0].axis('off')\n",
    "        ax[k,0].set_title(\"Original\",fontsize = 14, fontweight ='bold')\n",
    "        \n",
    "        dists = 1. - dot(features,curr_feature)/(norm(features)*norm(curr_feature))\n",
    "        \n",
    "        ids = np.argsort(dists)[:N] \n",
    "        print(\"Result for image: \",dists[:N],ids)\n",
    "        scores = [(dists[id], img_paths[id]) for id in ids]\n",
    "        res = []\n",
    "    \n",
    "        for j in range(len(scores)):\n",
    "            img = Image.open(scores[j][1])\n",
    "            ax[k,j+1].imshow(img)\n",
    "            ax[k,j+1].axis('off')\n",
    "            ax[k,j+1].set_title(\"Similar image {} \\n {:.5f}\".format(j+1,scores[j][0]),fontsize = 14, fontweight ='bold')\n",
    "            res.append(scores[j][0])\n",
    "            \n",
    "        results.append(res)\n",
    "end= time.time()          "
   ]
  },
  {
   "cell_type": "code",
   "execution_count": null,
   "metadata": {},
   "outputs": [],
   "source": [
    "print(\"Time elapsed for retrieving 10 images for 10 queries: \",end-start)"
   ]
  },
  {
   "cell_type": "code",
   "execution_count": null,
   "metadata": {},
   "outputs": [],
   "source": [
    "print(\"Time elapsed for retrieving 10 images for 10 queries: \",end-start)"
   ]
  }
 ],
 "metadata": {
  "kernelspec": {
   "display_name": "Python 3",
   "language": "python",
   "name": "python3"
  },
  "language_info": {
   "codemirror_mode": {
    "name": "ipython",
    "version": 3
   },
   "file_extension": ".py",
   "mimetype": "text/x-python",
   "name": "python",
   "nbconvert_exporter": "python",
   "pygments_lexer": "ipython3",
   "version": "3.8.8"
  }
 },
 "nbformat": 4,
 "nbformat_minor": 4
}
