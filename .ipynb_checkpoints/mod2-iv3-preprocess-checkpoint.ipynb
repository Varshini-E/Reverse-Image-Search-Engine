{
 "cells": [
  {
   "cell_type": "code",
   "execution_count": null,
   "id": "creative-haiti",
   "metadata": {},
   "outputs": [],
   "source": [
    "import os\n",
    "\n",
    "directories = ['feature_vectors_iv3','feature_vectors_iv3/train','feature_vectors_iv3/test','feature_vectors_iv3/validation']\n",
    "\n",
    "for dir in directories:\n",
    "    if not os.path.exists(dir):\n",
    "        os.mkdir(dir)"
   ]
  },
  {
   "cell_type": "code",
   "execution_count": null,
   "id": "incident-format",
   "metadata": {},
   "outputs": [],
   "source": [
    "from tensorflow.keras.preprocessing import image\n",
    "from tensorflow.keras.applications.vgg16 import VGG16, preprocess_input\n",
    "from tensorflow.keras.models import Model\n",
    "import numpy as np\n",
    "from PIL import Image\n",
    "from keras.applications.inception_v3 import InceptionV3\n",
    "from keras.applications.inception_v3 import preprocess_input as inception_v3_preprocessor\n",
    "\n",
    "class FeatureExtractor:\n",
    "    def __init__(self):\n",
    "        self.model = InceptionV3(weights='imagenet')\n",
    "        #self.model = Model(inputs=base_model.input, outputs=base_model.get_layer('fc1').output)\n",
    "\n",
    "    def extract(self, img):\n",
    "        \"\"\"\n",
    "        Extract a deep feature from an input image\n",
    "        Args:\n",
    "            img: from PIL.Image.open(path) or tensorflow.keras.preprocessing.image.load_img(path)\n",
    "\n",
    "        Returns:\n",
    "            feature (np.ndarray): deep feature with the shape=(4096, )\n",
    "        \"\"\"\n",
    "        img = img.resize((299, 299))  # VGG must take a 224x224 img as an input\n",
    "        img = img.convert('RGB')  # Make sure img is color\n",
    "        x = image.img_to_array(img)  # To np.array. Height x Width x Channel. dtype=float32\n",
    "        x = np.expand_dims(x, axis=0)  # (H, W, C)->(1, H, W, C), where the first elem is the number of img\n",
    "        x = preprocess_input(x)  # Subtracting avg values for each pixel\n",
    "        feature = self.model.predict(x)[0]  # (1, 4096) -> (4096, )\n",
    "        return feature / np.linalg.norm(feature)  # Normalize\n",
    "\n"
   ]
  },
  {
   "cell_type": "code",
   "execution_count": null,
   "id": "talented-collection",
   "metadata": {},
   "outputs": [],
   "source": [
    "from pathlib import Path\n",
    "fe = FeatureExtractor()\n",
    "\n",
    "i = 0\n",
    "for img_path in sorted(Path(\"../webscraping/images_aggregate\").glob(\"*.jpg\")):\n",
    "    i+=1\n",
    "    print(img_path)  \n",
    "    feature = fe.extract(img=Image.open(img_path))\n",
    "    \n",
    "    if(i%5==0 and i%10!=0):\n",
    "        feature_path = Path(\"./feature_vectors_iv3/test\") / (img_path.stem + \".npy\")  # e.g., ./static/feature/xxx.npy\n",
    "        np.save(feature_path, feature)\n",
    "    elif(i%10==0):\n",
    "        feature_path = Path(\"./feature_vectors_iv3/validation\") / (img_path.stem + \".npy\")  # e.g., ./static/feature/xxx.npy\n",
    "        np.save(feature_path, feature)\n",
    "    else:\n",
    "        feature_path = Path(\"./feature_vectors_iv3/train\") / (img_path.stem + \".npy\")  \n",
    "        np.save(feature_path, feature)"
   ]
  },
  {
   "cell_type": "code",
   "execution_count": null,
   "id": "dutch-couple",
   "metadata": {},
   "outputs": [],
   "source": []
  }
 ],
 "metadata": {
  "kernelspec": {
   "display_name": "Python 3",
   "language": "python",
   "name": "python3"
  },
  "language_info": {
   "codemirror_mode": {
    "name": "ipython",
    "version": 3
   },
   "file_extension": ".py",
   "mimetype": "text/x-python",
   "name": "python",
   "nbconvert_exporter": "python",
   "pygments_lexer": "ipython3",
   "version": "3.8.8"
  }
 },
 "nbformat": 4,
 "nbformat_minor": 5
}
