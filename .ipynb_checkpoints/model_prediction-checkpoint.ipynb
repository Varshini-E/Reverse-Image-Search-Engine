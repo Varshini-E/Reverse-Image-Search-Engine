{
 "cells": [
  {
   "cell_type": "code",
   "execution_count": null,
   "id": "8e738289",
   "metadata": {},
   "outputs": [],
   "source": [
    "import os\n",
    "from tensorflow.keras.preprocessing import image\n",
    "from tensorflow.keras.applications.resnet50 import ResNet50, preprocess_input, decode_predictions\n",
    "from tensorflow.keras.models import Model\n",
    "import numpy as np\n",
    "from PIL import Image\n",
    "import keras\n",
    "from IPython.display import display\n",
    "from pathlib import Path\n",
    "import cv2"
   ]
  },
  {
   "cell_type": "code",
   "execution_count": null,
   "id": "21d54269",
   "metadata": {},
   "outputs": [],
   "source": [
    "MODEL_PATH = os.path.sep.join(['output','resnet1']) \n",
    "model = keras.models.load_model(MODEL_PATH)"
   ]
  },
  {
   "cell_type": "code",
   "execution_count": null,
   "id": "34c34708",
   "metadata": {},
   "outputs": [],
   "source": [
    "def prepare(img):\n",
    "        img = img.resize((224, 224))  \n",
    "        img = img.convert('RGB')  \n",
    "        \n",
    "        x = image.img_to_array(img) \n",
    "        x = preprocess_input(np.expand_dims(img.copy(), axis=0))\n",
    "        return x"
   ]
  },
  {
   "cell_type": "code",
   "execution_count": null,
   "id": "b28e5267",
   "metadata": {},
   "outputs": [],
   "source": [
    "img = Image.open('blue-tops-0757.jpg')"
   ]
  },
  {
   "cell_type": "code",
   "execution_count": null,
   "id": "6227d063",
   "metadata": {
    "scrolled": true
   },
   "outputs": [],
   "source": [
    "preds = model.predict(prepare(img))\n",
    "print(preds)"
   ]
  },
  {
   "cell_type": "code",
   "execution_count": null,
   "id": "75c69155",
   "metadata": {},
   "outputs": [],
   "source": [
    "classes = ['dresses', 'jeans', 'pants', 'shirts', 'shirts', \n",
    "           'tops', 'pants', 'dresses', 'jeans', 'pants', \n",
    "           'shirts', 'sweat shirts', ' tops',\n",
    "           'pants', 'dresses', 'shirts', \n",
    "           'tops', 'tops', 'dresses', 'dresses', 'shirts', \n",
    "           'tops', 'dresses', 'shirts', 'tops', 'dresses', 'tops']"
   ]
  },
  {
   "cell_type": "code",
   "execution_count": null,
   "id": "b13facf1",
   "metadata": {},
   "outputs": [],
   "source": [
    "predIdxs = np.argmax(preds)\n",
    "print(predIdxs)\n",
    "print(classes[predIdxs])"
   ]
  },
  {
   "cell_type": "code",
   "execution_count": null,
   "id": "ec34c4a3",
   "metadata": {},
   "outputs": [],
   "source": [
    "print(name_id_map)"
   ]
  }
 ],
 "metadata": {
  "kernelspec": {
   "display_name": "Python 3",
   "language": "python",
   "name": "python3"
  },
  "language_info": {
   "codemirror_mode": {
    "name": "ipython",
    "version": 3
   },
   "file_extension": ".py",
   "mimetype": "text/x-python",
   "name": "python",
   "nbconvert_exporter": "python",
   "pygments_lexer": "ipython3",
   "version": "3.8.8"
  }
 },
 "nbformat": 4,
 "nbformat_minor": 5
}
