{
 "cells": [
  {
   "cell_type": "code",
   "execution_count": null,
   "id": "55fdef23",
   "metadata": {},
   "outputs": [],
   "source": [
    "import os\n",
    "from imutils import paths\n",
    "import random\n",
    "import shutil\n",
    "from PIL import Image\n",
    "\n",
    "directory = \"../webscraping/images_aggregate\"\n",
    "if not os.path.exists('model_dataset'):\n",
    "    os.mkdir('model_dataset')"
   ]
  },
  {
   "cell_type": "code",
   "execution_count": null,
   "id": "968b14a3",
   "metadata": {},
   "outputs": [],
   "source": [
    "BASE_PATH = \"model_dataset\"\n",
    "\n",
    "TRAIN_PATH = os.path.sep.join([BASE_PATH, \"training\"])\n",
    "VAL_PATH = os.path.sep.join([BASE_PATH, \"validation\"])\n",
    "TEST_PATH = os.path.sep.join([BASE_PATH, \"testing\"])\n",
    "\n",
    "TRAIN_SPLIT = 0.8\n",
    "\n",
    "VAL_SPLIT = 0.1"
   ]
  },
  {
   "cell_type": "code",
   "execution_count": null,
   "id": "4f53a492",
   "metadata": {},
   "outputs": [],
   "source": [
    "for root, dirs, files in os.walk(directory):\n",
    "    for subdir in dirs:\n",
    "        imagePaths = list(paths.list_images(os.path.join(root, subdir)))\n",
    "        imagePaths.sort()  \n",
    "        random.seed(42)\n",
    "        random.shuffle(imagePaths) \n",
    "        \n",
    "        i = int(len(imagePaths) * TRAIN_SPLIT)\n",
    "        trainPaths = imagePaths[:i]\n",
    "        testPaths = imagePaths[i:]\n",
    "        \n",
    "        i = int(len(trainPaths) * VAL_SPLIT)\n",
    "        valPaths = trainPaths[:i]\n",
    "        trainPaths = trainPaths[i:]\n",
    "        \n",
    "        datasets = [\n",
    "            (\"training\", trainPaths, TRAIN_PATH),\n",
    "            (\"validation\", valPaths, VAL_PATH),\n",
    "            (\"testing\", testPaths, TEST_PATH)\n",
    "        ]\n",
    "        \n",
    "        \n",
    "        for (dType, imagePaths, baseOutput) in datasets:\n",
    "            print(\"[INFO] building '{}' split\".format(dType))\n",
    "           \n",
    "            if not os.path.exists(baseOutput):\n",
    "                print(\"[INFO] 'creating {}' directory\".format(baseOutput))\n",
    "                os.makedirs(baseOutput)\n",
    "           \n",
    "            for inputPath in imagePaths:\n",
    "                \n",
    "                filename = inputPath.split(os.path.sep)[-1]\n",
    "                label = inputPath.split(os.path.sep)[-2]\n",
    "                \n",
    "                labelPath = os.path.sep.join([baseOutput, label])\n",
    "               \n",
    "                if not os.path.exists(labelPath):\n",
    "                    print(\"[INFO] 'creating {}' directory\".format(labelPath))\n",
    "                    os.makedirs(labelPath)\n",
    "                \n",
    "                p = os.path.sep.join([labelPath, filename])\n",
    "                shutil.copy2(inputPath, p)"
   ]
  },
  {
   "cell_type": "code",
   "execution_count": null,
   "id": "c7363a9e",
   "metadata": {},
   "outputs": [],
   "source": [
    "cwd = os.getcwd()\n",
    "os.chdir('model_dataset')\n",
    "for root, dirs, files in os.walk('training'):\n",
    "    for subdir in dirs:\n",
    "        imagePaths = list(paths.list_images(os.path.join(root, subdir)))\n",
    "\n",
    "        for img in imagePaths:\n",
    "            image = Image.open(img)\n",
    "            imResize = image.resize((256,256), Image.ANTIALIAS)\n",
    "            imResize.save(img, 'JPEG', quality=90)\n",
    "os.chdir(cwd)"
   ]
  },
  {
   "cell_type": "code",
   "execution_count": null,
   "id": "e8e0b59d",
   "metadata": {},
   "outputs": [],
   "source": [
    "os.chdir('model_dataset')\n",
    "for root, dirs, files in os.walk('testing'):\n",
    "    for subdir in dirs:\n",
    "        imagePaths = list(paths.list_images(os.path.join(root, subdir)))\n",
    "\n",
    "        for img in imagePaths:\n",
    "            image = Image.open(img)\n",
    "            imResize = image.resize((256,256), Image.ANTIALIAS)\n",
    "            imResize.save(img, 'JPEG', quality=90)\n",
    "os.chdir(cwd)"
   ]
  },
  {
   "cell_type": "code",
   "execution_count": null,
   "id": "b5f9e293",
   "metadata": {},
   "outputs": [],
   "source": [
    "os.chdir('model_dataset')\n",
    "for root, dirs, files in os.walk('validation'):\n",
    "    for subdir in dirs:\n",
    "        imagePaths = list(paths.list_images(os.path.join(root, subdir)))\n",
    "\n",
    "        for img in imagePaths:\n",
    "            image = Image.open(img)\n",
    "            imResize = image.resize((256,256), Image.ANTIALIAS)\n",
    "            imResize.save(img, 'JPEG', quality=90)\n",
    "os.chdir(cwd)"
   ]
  },
  {
   "cell_type": "code",
   "execution_count": null,
   "id": "88f87436",
   "metadata": {},
   "outputs": [],
   "source": []
  }
 ],
 "metadata": {
  "kernelspec": {
   "display_name": "Python 3",
   "language": "python",
   "name": "python3"
  },
  "language_info": {
   "codemirror_mode": {
    "name": "ipython",
    "version": 3
   },
   "file_extension": ".py",
   "mimetype": "text/x-python",
   "name": "python",
   "nbconvert_exporter": "python",
   "pygments_lexer": "ipython3",
   "version": "3.8.8"
  }
 },
 "nbformat": 4,
 "nbformat_minor": 5
}
