{
 "cells": [
  {
   "cell_type": "code",
   "execution_count": null,
   "metadata": {
    "scrolled": true
   },
   "outputs": [],
   "source": [
    "import os\n",
    "from tensorflow.keras.preprocessing import image\n",
    "from tensorflow.keras.applications.resnet50 import ResNet50, preprocess_input\n",
    "from tensorflow.keras.models import Model\n",
    "from keras.preprocessing.image import load_img\n",
    "from keras.preprocessing.image import img_to_array\n",
    "from numpy import expand_dims\n",
    "from matplotlib import pyplot"
   ]
  },
  {
   "cell_type": "code",
   "execution_count": null,
   "metadata": {
    "scrolled": false
   },
   "outputs": [],
   "source": [
    "resnet = ResNet50(weights='imagenet')\n",
    "resnet.summary()"
   ]
  },
  {
   "cell_type": "code",
   "execution_count": null,
   "metadata": {},
   "outputs": [],
   "source": [
    "print(len(resnet.layers))\n",
    "for layer in resnet.layers:\n",
    "    print(layer)"
   ]
  },
  {
   "cell_type": "code",
   "execution_count": null,
   "metadata": {},
   "outputs": [],
   "source": [
    "ixs = ['conv2_block1_3_conv', \"conv3_block1_3_conv\",\"conv4_block1_3_conv\",\"conv5_block1_3_conv\"]\n",
    "outputs = [resnet.get_layer(i).output for i in ixs]\n",
    "model = Model(inputs=resnet.inputs, outputs=outputs)\n",
    "img = load_img('../webscraping/images_aggregate/51v8UlSQfBL.jpg', target_size=(224, 224))\n",
    "img = img_to_array(img)\n",
    "img = expand_dims(img, axis=0)\n",
    "\n",
    "img = preprocess_input(img)\n",
    "feature_maps = model.predict(img)\n",
    "# print(feature_maps.shape)\n",
    "\n",
    "square = 4\n",
    "for fmap in feature_maps:\n",
    "    print(fmap.shape)\n",
    "    ix = 1\n",
    "    for _ in range(square):\n",
    "        for _ in range(square):\n",
    "            ax = pyplot.subplot(square,square,ix)\n",
    "            ax.set_xticks([])\n",
    "            ax.set_yticks([])\n",
    "            pyplot.imshow(fmap[0,:,:,ix-1])\n",
    "            ix += 1\n",
    "    pyplot.show()"
   ]
  },
  {
   "cell_type": "code",
   "execution_count": null,
   "metadata": {},
   "outputs": [],
   "source": []
  }
 ],
 "metadata": {
  "kernelspec": {
   "display_name": "Python 3",
   "language": "python",
   "name": "python3"
  },
  "language_info": {
   "codemirror_mode": {
    "name": "ipython",
    "version": 3
   },
   "file_extension": ".py",
   "mimetype": "text/x-python",
   "name": "python",
   "nbconvert_exporter": "python",
   "pygments_lexer": "ipython3",
   "version": "3.8.8"
  }
 },
 "nbformat": 4,
 "nbformat_minor": 4
}
