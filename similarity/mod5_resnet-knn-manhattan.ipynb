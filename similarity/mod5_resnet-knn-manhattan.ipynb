{
 "cells": [
  {
   "cell_type": "code",
   "execution_count": null,
   "metadata": {},
   "outputs": [],
   "source": [
    "import numpy as np\n",
    "import os\n",
    "from PIL import Image\n",
    "from pathlib import Path\n",
    "import cv2\n",
    "from IPython.display import display\n",
    "import matplotlib.pyplot as plt\n",
    "import scipy\n",
    "import time"
   ]
  },
  {
   "cell_type": "code",
   "execution_count": null,
   "metadata": {},
   "outputs": [],
   "source": [
    "features = []\n",
    "img_paths = []\n",
    "\n",
    "for feature_path in Path(\"./feature_vectors_resnet2/train\").glob(\"*.npy\"):\n",
    "    fv = np.load(feature_path)\n",
    "    features.append(fv)\n",
    "    img_paths.append(Path(\"../webscraping/images_aggregate\") / (feature_path.stem + \".jpg\"))\n",
    "features = np.array(features)"
   ]
  },
  {
   "cell_type": "code",
   "execution_count": null,
   "metadata": {},
   "outputs": [],
   "source": [
    "features_test = []\n",
    "test_imgs = []\n",
    "\n",
    "for feature_path in Path(\"./feature_vectors_resnet2/test\").glob(\"*.npy\"):\n",
    "    fv = np.load(feature_path)\n",
    "    features_test.append(fv)\n",
    "    test_imgs.append(Path(\"./images_aggregate\") / (feature_path.stem + \".jpg\"))\n"
   ]
  },
  {
   "cell_type": "code",
   "execution_count": null,
   "metadata": {
    "scrolled": true
   },
   "outputs": [],
   "source": [
    "from sklearn.neighbors import NearestNeighbors\n",
    "print(\"Fitting k-nearest-neighbour model on training images...\")\n",
    "knn = NearestNeighbors(metric=\"manhattan\",algorithm=\"brute\")\n",
    "knn.fit(features)"
   ]
  },
  {
   "cell_type": "code",
   "execution_count": null,
   "metadata": {},
   "outputs": [],
   "source": [
    "num = 10\n",
    "N = 10\n",
    "# int(input(\"Enter the number of similar images to be retrieved: \"))"
   ]
  },
  {
   "cell_type": "code",
   "execution_count": null,
   "metadata": {},
   "outputs": [],
   "source": [
    "results = []\n",
    "fig, ax = plt.subplots(num,N+1,figsize=(20, 20))\n",
    "plt.tight_layout()\n",
    "\n",
    "start = time.time()\n",
    "for k in range(len(features_test)):\n",
    "    \n",
    "    if(k==num):\n",
    "        break\n",
    "\n",
    "    feature = np.array(features_test[k]).flatten().reshape(1,-1)\n",
    "    ax[k,0].imshow((Image.open(test_imgs[k])))\n",
    "    \n",
    "    ax[k,0].axis('off')\n",
    "    ax[k,0].set_title(\"Original\",fontsize = 14, fontweight ='bold')\n",
    "    res = knn.kneighbors(feature.reshape(1,-1),return_distance=True,n_neighbors=N)    \n",
    "    results.append(res)\n",
    "    print(\"Result for Image: \",res)\n",
    "    for j in range(len(res[1][0])):\n",
    "        for i in range(len(img_paths)):\n",
    "            \n",
    "            if(i==res[1][0][j]):\n",
    "                img = Image.open(img_paths[i])\n",
    "                ax[k,j+1].imshow(img)\n",
    "                ax[k,j+1].axis('off')\n",
    "                ax[k,j+1].set_title(\"Similar image {} \\n {:.5f}\".format(j+1,res[0][0][j]),fontsize = 14, fontweight ='bold')\n",
    "end= time.time()                \n",
    "    "
   ]
  },
  {
   "cell_type": "code",
   "execution_count": null,
   "metadata": {},
   "outputs": [],
   "source": [
    "print(\"Time elapsed for retrieving 10 images for 10 queries: \",end-start)"
   ]
  }
 ],
 "metadata": {
  "kernelspec": {
   "display_name": "Python 3",
   "language": "python",
   "name": "python3"
  },
  "language_info": {
   "codemirror_mode": {
    "name": "ipython",
    "version": 3
   },
   "file_extension": ".py",
   "mimetype": "text/x-python",
   "name": "python",
   "nbconvert_exporter": "python",
   "pygments_lexer": "ipython3",
   "version": "3.8.8"
  }
 },
 "nbformat": 4,
 "nbformat_minor": 4
}
